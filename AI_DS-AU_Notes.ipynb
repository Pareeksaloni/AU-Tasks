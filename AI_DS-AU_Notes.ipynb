It contain all the notes of File Handling
